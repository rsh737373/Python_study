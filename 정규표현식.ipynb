{
 "cells": [
  {
   "cell_type": "markdown",
   "id": "3dc6a14f",
   "metadata": {},
   "source": [
    "## 정규표현식\n",
    "\n",
    "- regular expression\n",
    "- 기존 문자열 분석 함수를 이용해서 문자열을 분석하는 경우가 대부분이다\n",
    "- 정규표현식의 경우는 나만의 일정한 패턴, 규칙을 만들어서 문자열을 분석할 수 있다.\n",
    "- 특정한 규칙으로 된 문자열을 추출하거나, 바꾸거나, 전처리 등 다양하게 활용할 수 있다.\n"
   ]
  },
  {
   "cell_type": "code",
   "execution_count": 1,
   "id": "316e40a0",
   "metadata": {},
   "outputs": [],
   "source": [
    "import re # 정규표현식 불러오기!!"
   ]
  },
  {
   "cell_type": "code",
   "execution_count": 2,
   "id": "f06ac72e",
   "metadata": {},
   "outputs": [
    {
     "data": {
      "text/plain": [
       "<re.Match object; span=(0, 5), match='Hello'>"
      ]
     },
     "execution_count": 2,
     "metadata": {},
     "output_type": "execute_result"
    }
   ],
   "source": [
    "re.match('Hello','Hello Python')"
   ]
  },
  {
   "cell_type": "code",
   "execution_count": 3,
   "id": "0d514f70",
   "metadata": {},
   "outputs": [],
   "source": [
    "re.match('Python','Hello Python')"
   ]
  },
  {
   "cell_type": "code",
   "execution_count": 4,
   "id": "30efbcf9",
   "metadata": {},
   "outputs": [],
   "source": [
    "re.match('hello','Hello Python')"
   ]
  },
  {
   "cell_type": "markdown",
   "id": "31fa37ea",
   "metadata": {},
   "source": [
    "## re.search\n",
    "- 뒤에 오는지 확인하는 방법\n",
    "- ^문자열\n",
    "- 문자열 $\n",
    "- 문자열을 찾는 함수가 match,search도 있다."
   ]
  },
  {
   "cell_type": "code",
   "execution_count": 6,
   "id": "d99da152",
   "metadata": {},
   "outputs": [
    {
     "data": {
      "text/plain": [
       "<re.Match object; span=(6, 12), match='Python'>"
      ]
     },
     "execution_count": 6,
     "metadata": {},
     "output_type": "execute_result"
    }
   ],
   "source": [
    "re.search('Python','Hello Python')\n",
    "# 서치는 다 찾아보는 아주 좋은 친구이다!"
   ]
  },
  {
   "cell_type": "markdown",
   "id": "85d0b284",
   "metadata": {},
   "source": [
    "## 정규식을 이용해 범위 판단하기!\n",
    "- 숫자만 가져와야 하는 경우\n",
    "- [0-9] #숫자만 가져오기!\n",
    "- [0-9]*\n",
    "- [0-9]+\n",
    "- *는 문자, 숫자가 0개 이상 있는지\n",
    "- '+'는 문자, 숫자가 1개 이상 있는지 체크"
   ]
  },
  {
   "cell_type": "code",
   "execution_count": 7,
   "id": "10c0c83d",
   "metadata": {},
   "outputs": [
    {
     "data": {
      "text/plain": [
       "<re.Match object; span=(0, 1), match='1'>"
      ]
     },
     "execution_count": 7,
     "metadata": {},
     "output_type": "execute_result"
    }
   ],
   "source": [
    "re.match('[0-9]','123456789')"
   ]
  },
  {
   "cell_type": "code",
   "execution_count": 10,
   "id": "74d14eaf",
   "metadata": {},
   "outputs": [],
   "source": [
    "re.match('[0-9]','a123456789') # 첫 번째에 숫자가 아닌 문자가 있으면 찾아내지 못한다."
   ]
  },
  {
   "cell_type": "code",
   "execution_count": 9,
   "id": "1922e5c9",
   "metadata": {},
   "outputs": [
    {
     "data": {
      "text/plain": [
       "<re.Match object; span=(0, 1), match='1'>"
      ]
     },
     "execution_count": 9,
     "metadata": {},
     "output_type": "execute_result"
    }
   ],
   "source": [
    "re.match('[0-9]','123456789a')"
   ]
  },
  {
   "cell_type": "code",
   "execution_count": 11,
   "id": "353690a9",
   "metadata": {},
   "outputs": [
    {
     "data": {
      "text/plain": [
       "<re.Match object; span=(0, 1), match='1'>"
      ]
     },
     "execution_count": 11,
     "metadata": {},
     "output_type": "execute_result"
    }
   ],
   "source": [
    "re.search('[0-9]','123456789')"
   ]
  },
  {
   "cell_type": "code",
   "execution_count": 13,
   "id": "6c2d2da6",
   "metadata": {},
   "outputs": [
    {
     "data": {
      "text/plain": [
       "<re.Match object; span=(1, 2), match='1'>"
      ]
     },
     "execution_count": 13,
     "metadata": {},
     "output_type": "execute_result"
    }
   ],
   "source": [
    "re.search('[0-9]','a123456789') # match에서는 못 찾아냈지만 search는 찾아낸다."
   ]
  },
  {
   "cell_type": "code",
   "execution_count": 14,
   "id": "27e5c6d1",
   "metadata": {},
   "outputs": [
    {
     "data": {
      "text/plain": [
       "<re.Match object; span=(0, 9), match='123456789'>"
      ]
     },
     "execution_count": 14,
     "metadata": {},
     "output_type": "execute_result"
    }
   ],
   "source": [
    "re.match('[0-9]*','123456789')"
   ]
  },
  {
   "cell_type": "code",
   "execution_count": 19,
   "id": "0461d1a7",
   "metadata": {},
   "outputs": [
    {
     "data": {
      "text/plain": [
       "<re.Match object; span=(0, 3), match='123'>"
      ]
     },
     "execution_count": 19,
     "metadata": {},
     "output_type": "execute_result"
    }
   ],
   "source": [
    "re.match('[0-9]*','123a456789') "
   ]
  },
  {
   "cell_type": "code",
   "execution_count": 17,
   "id": "b1983081",
   "metadata": {},
   "outputs": [
    {
     "data": {
      "text/plain": [
       "<re.Match object; span=(0, 9), match='123456789'>"
      ]
     },
     "execution_count": 17,
     "metadata": {},
     "output_type": "execute_result"
    }
   ],
   "source": [
    "re.search('[0-9]*','123456789')"
   ]
  },
  {
   "cell_type": "code",
   "execution_count": 18,
   "id": "ff1adb9e",
   "metadata": {},
   "outputs": [
    {
     "data": {
      "text/plain": [
       "<re.Match object; span=(0, 3), match='123'>"
      ]
     },
     "execution_count": 18,
     "metadata": {},
     "output_type": "execute_result"
    }
   ],
   "source": [
    "re.search('[0-9]*','123a456789')"
   ]
  },
  {
   "cell_type": "code",
   "execution_count": 20,
   "id": "fb9a26ff",
   "metadata": {},
   "outputs": [
    {
     "data": {
      "text/plain": [
       "<re.Match object; span=(0, 3), match='123'>"
      ]
     },
     "execution_count": 20,
     "metadata": {},
     "output_type": "execute_result"
    }
   ],
   "source": [
    "re.match('[0-9]+','123a456789') "
   ]
  },
  {
   "cell_type": "code",
   "execution_count": 21,
   "id": "c96e10ed",
   "metadata": {},
   "outputs": [
    {
     "data": {
      "text/plain": [
       "<re.Match object; span=(0, 3), match='123'>"
      ]
     },
     "execution_count": 21,
     "metadata": {},
     "output_type": "execute_result"
    }
   ],
   "source": [
    "re.search('[0-9]+','123a456789') "
   ]
  },
  {
   "cell_type": "code",
   "execution_count": 22,
   "id": "d9bbedfb",
   "metadata": {},
   "outputs": [],
   "source": [
    "re.match('[0-9]+','홍길동 : 123456789')"
   ]
  },
  {
   "cell_type": "code",
   "execution_count": 23,
   "id": "f9c5791e",
   "metadata": {},
   "outputs": [
    {
     "data": {
      "text/plain": [
       "<re.Match object; span=(6, 15), match='123456789'>"
      ]
     },
     "execution_count": 23,
     "metadata": {},
     "output_type": "execute_result"
    }
   ],
   "source": [
    "re.search('[0-9]+','홍길동 : 123456789')"
   ]
  },
  {
   "cell_type": "code",
   "execution_count": 25,
   "id": "67f93269",
   "metadata": {},
   "outputs": [
    {
     "data": {
      "text/plain": [
       "<re.Match object; span=(6, 7), match='1'>"
      ]
     },
     "execution_count": 25,
     "metadata": {},
     "output_type": "execute_result"
    }
   ],
   "source": [
    "re.search('[0-9]','홍길동 : 123456789') # + 를 써야 전부 다 찾아낸다."
   ]
  },
  {
   "cell_type": "markdown",
   "id": "5d922117",
   "metadata": {},
   "source": [
    "## 문자 개수 판단하기\n",
    "- 문자가 정확히 몇 개 있는지 확인\n",
    "- 문자 {개수}\n",
    "- (문자열){개수}"
   ]
  },
  {
   "cell_type": "code",
   "execution_count": 26,
   "id": "681514e9",
   "metadata": {},
   "outputs": [
    {
     "data": {
      "text/plain": [
       "<re.Match object; span=(0, 3), match='hhh'>"
      ]
     },
     "execution_count": 26,
     "metadata": {},
     "output_type": "execute_result"
    }
   ],
   "source": [
    "re.match('h{3}','hhhhhhello')"
   ]
  },
  {
   "cell_type": "code",
   "execution_count": 27,
   "id": "58ab132d",
   "metadata": {},
   "outputs": [],
   "source": [
    "re.match('e{2}','hhheeello')"
   ]
  },
  {
   "cell_type": "code",
   "execution_count": 29,
   "id": "90ee9004",
   "metadata": {},
   "outputs": [
    {
     "data": {
      "text/plain": [
       "<re.Match object; span=(3, 5), match='ee'>"
      ]
     },
     "execution_count": 29,
     "metadata": {},
     "output_type": "execute_result"
    }
   ],
   "source": [
    "re.search('e{2}','hhheeello')"
   ]
  },
  {
   "cell_type": "code",
   "execution_count": 30,
   "id": "611a1998",
   "metadata": {},
   "outputs": [],
   "source": [
    "re.search('h{3}','hheello')"
   ]
  },
  {
   "cell_type": "code",
   "execution_count": 31,
   "id": "1c35a6a0",
   "metadata": {},
   "outputs": [
    {
     "data": {
      "text/plain": [
       "<re.Match object; span=(0, 6), match='hihihi'>"
      ]
     },
     "execution_count": 31,
     "metadata": {},
     "output_type": "execute_result"
    }
   ],
   "source": [
    "re.match('(hi){3}','hihihihihihello')"
   ]
  },
  {
   "cell_type": "markdown",
   "id": "c1820591",
   "metadata": {},
   "source": [
    "# 영문, 한글 찾기\n",
    "- 영문은 [a-z],[A-Z]\n",
    "- 한글은 [가-힣],[ㄱ-ㅎ],[ㅏ-ㅣ]"
   ]
  },
  {
   "cell_type": "code",
   "execution_count": 39,
   "id": "92010237",
   "metadata": {},
   "outputs": [
    {
     "data": {
      "text/plain": [
       "<re.Match object; span=(0, 0), match=''>"
      ]
     },
     "execution_count": 39,
     "metadata": {},
     "output_type": "execute_result"
    }
   ],
   "source": [
    "re.search('[가-힣]*','123 안녕하세요?1234 ㅎㅎ')"
   ]
  },
  {
   "cell_type": "code",
   "execution_count": 43,
   "id": "7e0c8fb7",
   "metadata": {},
   "outputs": [
    {
     "data": {
      "text/plain": [
       "<re.Match object; span=(4, 9), match='안녕하세요'>"
      ]
     },
     "execution_count": 43,
     "metadata": {},
     "output_type": "execute_result"
    }
   ],
   "source": [
    "re.search('[가-힣]+','123 안녕하세요?1234 하하')"
   ]
  },
  {
   "cell_type": "markdown",
   "id": "f192c96c",
   "metadata": {},
   "source": [
    "## 특정문자 범위에 포함되지 않는지 판단\n",
    "- [^범위]*\n",
    "- [^범위]+"
   ]
  },
  {
   "cell_type": "code",
   "execution_count": 46,
   "id": "cdfa44d0",
   "metadata": {},
   "outputs": [],
   "source": [
    "re.match('[^A-Z]+','Hello 안녕하세요')"
   ]
  },
  {
   "cell_type": "code",
   "execution_count": 49,
   "id": "87aa7d7d",
   "metadata": {},
   "outputs": [
    {
     "data": {
      "text/plain": [
       "<re.Match object; span=(5, 11), match=' 안녕하세요'>"
      ]
     },
     "execution_count": 49,
     "metadata": {},
     "output_type": "execute_result"
    }
   ],
   "source": [
    "re.search('[^A-Z]+','HELLO 안녕하세요')"
   ]
  },
  {
   "cell_type": "code",
   "execution_count": 50,
   "id": "c578c935",
   "metadata": {},
   "outputs": [
    {
     "data": {
      "text/plain": [
       "<re.Match object; span=(5, 11), match=' 안녕하세요'>"
      ]
     },
     "execution_count": 50,
     "metadata": {},
     "output_type": "execute_result"
    }
   ],
   "source": [
    "re.search('[^a-z]+','hello 안녕하세요')"
   ]
  },
  {
   "cell_type": "markdown",
   "id": "6ee0de31",
   "metadata": {},
   "source": [
    "## 특수문자\n",
    "- \\특수문자\n",
    "\n",
    "- \\d 모든 숫자\n",
    "- \\D 숫자를 제외한 모든 문자\n",
    "- \\w 영문, 대소문자, 숫자, 밑줄문자 \n",
    "- \\W 영문, 대소문자, 숫자, 밑물문자를 제외한 모든 문자"
   ]
  },
  {
   "cell_type": "code",
   "execution_count": 57,
   "id": "b062a9ce",
   "metadata": {},
   "outputs": [
    {
     "data": {
      "text/plain": [
       "<re.Match object; span=(2, 3), match='*'>"
      ]
     },
     "execution_count": 57,
     "metadata": {},
     "output_type": "execute_result"
    }
   ],
   "source": [
    "re.search('\\*+','1 *+2')"
   ]
  },
  {
   "cell_type": "code",
   "execution_count": 55,
   "id": "dd2142e8",
   "metadata": {},
   "outputs": [
    {
     "data": {
      "text/plain": [
       "<re.Match object; span=(2, 4), match='12'>"
      ]
     },
     "execution_count": 55,
     "metadata": {},
     "output_type": "execute_result"
    }
   ],
   "source": [
    "re.search('\\d+', '안뇽12')"
   ]
  },
  {
   "cell_type": "code",
   "execution_count": 59,
   "id": "50f16aff",
   "metadata": {},
   "outputs": [
    {
     "data": {
      "text/plain": [
       "<re.Match object; span=(0, 2), match='안뇽'>"
      ]
     },
     "execution_count": 59,
     "metadata": {},
     "output_type": "execute_result"
    }
   ],
   "source": [
    "re.search('\\D+','안뇽12')"
   ]
  },
  {
   "cell_type": "markdown",
   "id": "7da5f5ca",
   "metadata": {},
   "source": [
    "## 공백처리\n",
    "- ''\n",
    "- \\s\n",
    "- \\S"
   ]
  },
  {
   "cell_type": "code",
   "execution_count": 60,
   "id": "a48524ba",
   "metadata": {},
   "outputs": [
    {
     "data": {
      "text/plain": [
       "<re.Match object; span=(0, 10), match='hello 1234'>"
      ]
     },
     "execution_count": 60,
     "metadata": {},
     "output_type": "execute_result"
    }
   ],
   "source": [
    "re.match('[a-z0-9 ]+','hello 1234')"
   ]
  },
  {
   "cell_type": "code",
   "execution_count": 62,
   "id": "8a2ece03",
   "metadata": {},
   "outputs": [
    {
     "data": {
      "text/plain": [
       "<re.Match object; span=(0, 10), match='hello 1234'>"
      ]
     },
     "execution_count": 62,
     "metadata": {},
     "output_type": "execute_result"
    }
   ],
   "source": [
    "re.match('[a-z 0-9]+','hello 1234') # 순서는 상관없다"
   ]
  },
  {
   "cell_type": "code",
   "execution_count": 63,
   "id": "4560574a",
   "metadata": {},
   "outputs": [
    {
     "data": {
      "text/plain": [
       "<re.Match object; span=(0, 5), match='hello'>"
      ]
     },
     "execution_count": 63,
     "metadata": {},
     "output_type": "execute_result"
    }
   ],
   "source": [
    "re.match('[a-z0-9]+','hello 1234')"
   ]
  },
  {
   "cell_type": "code",
   "execution_count": 65,
   "id": "5910982d",
   "metadata": {},
   "outputs": [
    {
     "data": {
      "text/plain": [
       "<re.Match object; span=(0, 10), match='hello 1234'>"
      ]
     },
     "execution_count": 65,
     "metadata": {},
     "output_type": "execute_result"
    }
   ],
   "source": [
    "re.match('[a-z0-9\\s]+','hello 1234')"
   ]
  },
  {
   "cell_type": "markdown",
   "id": "5b1e8590",
   "metadata": {},
   "source": [
    "## 그룹핑\n",
    "- (정규표현식)(정규표현식)\n",
    "- 두 개의 그룹으로 원하는 걸 만들 수 있다\n",
    "- 매칭할 객체.group(그룹숫자)"
   ]
  },
  {
   "cell_type": "code",
   "execution_count": 77,
   "id": "68faa5cf",
   "metadata": {},
   "outputs": [],
   "source": [
    "df_n = re.match('([0-9]+) ([0-9]+)','121 131') "
   ]
  },
  {
   "cell_type": "code",
   "execution_count": 68,
   "id": "3bbf5470",
   "metadata": {},
   "outputs": [
    {
     "data": {
      "text/plain": [
       "'121'"
      ]
     },
     "execution_count": 68,
     "metadata": {},
     "output_type": "execute_result"
    }
   ],
   "source": [
    "df_n.group(1)"
   ]
  },
  {
   "cell_type": "code",
   "execution_count": 70,
   "id": "af4e2cb0",
   "metadata": {},
   "outputs": [
    {
     "data": {
      "text/plain": [
       "'131'"
      ]
     },
     "execution_count": 70,
     "metadata": {},
     "output_type": "execute_result"
    }
   ],
   "source": [
    "df_n.group(2)"
   ]
  },
  {
   "cell_type": "code",
   "execution_count": 78,
   "id": "9d5e3b55",
   "metadata": {},
   "outputs": [
    {
     "data": {
      "text/plain": [
       "('121', '131')"
      ]
     },
     "execution_count": 78,
     "metadata": {},
     "output_type": "execute_result"
    }
   ],
   "source": [
    "df_n.groups() "
   ]
  },
  {
   "cell_type": "markdown",
   "id": "433fe681",
   "metadata": {},
   "source": [
    "## 패턴에 매칭되는 모든 문자열 가져오기\n",
    "- re.findall('패턴','문자열')"
   ]
  },
  {
   "cell_type": "code",
   "execution_count": 73,
   "id": "34622fa1",
   "metadata": {},
   "outputs": [
    {
     "data": {
      "text/plain": [
       "['1', '3', '5', '7', '9', '11', '15']"
      ]
     },
     "execution_count": 73,
     "metadata": {},
     "output_type": "execute_result"
    }
   ],
   "source": [
    "re.findall('[0-9]+','1 3 5 7 pizza 9 11 Rice 15')"
   ]
  },
  {
   "cell_type": "code",
   "execution_count": 75,
   "id": "07b1303c",
   "metadata": {},
   "outputs": [
    {
     "data": {
      "text/plain": [
       "['pizza', 'Rice']"
      ]
     },
     "execution_count": 75,
     "metadata": {},
     "output_type": "execute_result"
    }
   ],
   "source": [
    "re.findall('[a-zA-Z]+','1 3 5 7 pizza 9 11 Rice 15 정규식 정말 쉽죠?ㅎㅎ')"
   ]
  },
  {
   "cell_type": "code",
   "execution_count": 79,
   "id": "b3059af4",
   "metadata": {},
   "outputs": [
    {
     "data": {
      "text/plain": [
       "['정규식', '정말', '쉽죠', 'ㅎㅎ']"
      ]
     },
     "execution_count": 79,
     "metadata": {},
     "output_type": "execute_result"
    }
   ],
   "source": [
    "re.findall('[가-힣ㄱ-ㅎ]+','1 3 5 7 pizza 9 11 Rice 15 정규식 정말 쉽죠?ㅎㅎ')"
   ]
  },
  {
   "cell_type": "code",
   "execution_count": 80,
   "id": "196d89d9",
   "metadata": {},
   "outputs": [],
   "source": [
    "df_new = re.findall('[가-힣ㄱ-ㅎ]+','1 3 5 7 pizza 9 11 Rice 15 정규식 정말 쉽죠?ㅎㅎ')"
   ]
  },
  {
   "cell_type": "code",
   "execution_count": 83,
   "id": "78d14e68",
   "metadata": {},
   "outputs": [
    {
     "data": {
      "text/plain": [
       "'정규식'"
      ]
     },
     "execution_count": 83,
     "metadata": {},
     "output_type": "execute_result"
    }
   ],
   "source": [
    "df_new[0] # 리스트로 저장된다 아주 구욷bb"
   ]
  },
  {
   "cell_type": "markdown",
   "id": "026018c8",
   "metadata": {},
   "source": [
    "## 문자열 바꾸기\n",
    "- re.sub('패턴','바꿀 문자열','문자열',바꿀 횟수)"
   ]
  },
  {
   "cell_type": "code",
   "execution_count": 85,
   "id": "ee34a1d4",
   "metadata": {},
   "outputs": [
    {
     "data": {
      "text/plain": [
       "'number number number number pizza number number Rice number'"
      ]
     },
     "execution_count": 85,
     "metadata": {},
     "output_type": "execute_result"
    }
   ],
   "source": [
    "re.sub('[0-9]+','number','1 3 5 7 pizza 9 11 Rice 15')"
   ]
  },
  {
   "cell_type": "code",
   "execution_count": 86,
   "id": "f6b71bfe",
   "metadata": {},
   "outputs": [
    {
     "data": {
      "text/plain": [
       "'1 3 5 7 number 9 11 Rice 15'"
      ]
     },
     "execution_count": 86,
     "metadata": {},
     "output_type": "execute_result"
    }
   ],
   "source": [
    "re.sub('[A-Za-z]+','number','1 3 5 7 pizza 9 11 Rice 15',1)"
   ]
  },
  {
   "cell_type": "markdown",
   "id": "af72f311",
   "metadata": {},
   "source": [
    "## 퀴즈1\n",
    "- 전화번호 찾기!\n",
    "- 전화번호는 대부분 패턴이 000-0000-0000 이다."
   ]
  },
  {
   "cell_type": "code",
   "execution_count": 38,
   "id": "cbfb5443",
   "metadata": {},
   "outputs": [
    {
     "data": {
      "text/plain": [
       "<re.Match object; span=(0, 13), match='010-3411-4330'>"
      ]
     },
     "execution_count": 38,
     "metadata": {},
     "output_type": "execute_result"
    }
   ],
   "source": [
    "re.match('[0-9]{3}-[0-9]{4}-[0-9]{4}','010-3411-4330')"
   ]
  },
  {
   "cell_type": "code",
   "execution_count": 35,
   "id": "7a56af9a",
   "metadata": {},
   "outputs": [],
   "source": [
    "re.match('[0-9]{3}-[0-9]{4}-[0-9]{4}','노승현의 휴대폰 번호는 010-3411-4330이다.')"
   ]
  },
  {
   "cell_type": "code",
   "execution_count": 36,
   "id": "d0d94812",
   "metadata": {},
   "outputs": [
    {
     "data": {
      "text/plain": [
       "<re.Match object; span=(13, 26), match='010-3411-4330'>"
      ]
     },
     "execution_count": 36,
     "metadata": {},
     "output_type": "execute_result"
    }
   ],
   "source": [
    "re.search('[0-9]{3}-[0-9]{4}-[0-9]{4}','노승현의 휴대폰 번호는 010-3411-4330이다.')"
   ]
  },
  {
   "cell_type": "markdown",
   "id": "f2c1e455",
   "metadata": {},
   "source": [
    "## 퀴즈2\n",
    "- 이메일 주소를 찾는 정규식 패턴 만들기!\n",
    "- 이메일의 시작은 영어(소문자만 가능)\n",
    "- 맨 앞은 숫자가 올 수 없다\n",
    "- @ 다음은 .com으로 끝난다."
   ]
  },
  {
   "cell_type": "code",
   "execution_count": 99,
   "id": "d2f2912e",
   "metadata": {},
   "outputs": [],
   "source": [
    "mail = '123rsh737373@naver.com'"
   ]
  },
  {
   "cell_type": "code",
   "execution_count": 100,
   "id": "3b530b0e",
   "metadata": {},
   "outputs": [
    {
     "data": {
      "text/plain": [
       "<re.Match object; span=(3, 22), match='rsh737373@naver.com'>"
      ]
     },
     "execution_count": 100,
     "metadata": {},
     "output_type": "execute_result"
    }
   ],
   "source": [
    "re.search('[^0-9]+[a-z0-9]+@[a-z]+.com',mail)"
   ]
  },
  {
   "cell_type": "code",
   "execution_count": null,
   "id": "4061ed57",
   "metadata": {},
   "outputs": [],
   "source": []
  }
 ],
 "metadata": {
  "kernelspec": {
   "display_name": "Python 3 (ipykernel)",
   "language": "python",
   "name": "python3"
  },
  "language_info": {
   "codemirror_mode": {
    "name": "ipython",
    "version": 3
   },
   "file_extension": ".py",
   "mimetype": "text/x-python",
   "name": "python",
   "nbconvert_exporter": "python",
   "pygments_lexer": "ipython3",
   "version": "3.9.1"
  }
 },
 "nbformat": 4,
 "nbformat_minor": 5
}
